{
  "nbformat": 4,
  "nbformat_minor": 0,
  "metadata": {
    "kernelspec": {
      "display_name": "Python 3",
      "language": "python",
      "name": "python3"
    },
    "language_info": {
      "codemirror_mode": {
        "name": "ipython",
        "version": 3
      },
      "file_extension": ".py",
      "mimetype": "text/x-python",
      "name": "python",
      "nbconvert_exporter": "python",
      "pygments_lexer": "ipython3",
      "version": "3.8.5"
    },
    "colab": {
      "name": "python personal project_2020220071_Kimchangwoo.ipynb",
      "provenance": [],
      "collapsed_sections": [],
      "machine_shape": "hm",
      "include_colab_link": true
    },
    "accelerator": "GPU"
  },
  "cells": [
    {
      "cell_type": "markdown",
      "metadata": {
        "id": "view-in-github",
        "colab_type": "text"
      },
      "source": [
        "<a href=\"https://colab.research.google.com/github/kcw0331/python-personal-project/blob/main/python_personal_project_2020220071_Kimchangwoo.ipynb\" target=\"_parent\"><img src=\"https://colab.research.google.com/assets/colab-badge.svg\" alt=\"Open In Colab\"/></a>"
      ]
    },
    {
      "cell_type": "markdown",
      "metadata": {
        "id": "3MujZ3Ice0Ue"
      },
      "source": [
        "# **Fashion Mnist**"
      ]
    },
    {
      "cell_type": "markdown",
      "metadata": {
        "id": "ud3MnLIJe7eJ"
      },
      "source": [
        "### **맥 락**\n",
        "- Fashion-MNIST는 Zalando의 기사 이미지 데이터 세트이며, 60,000개의 예제로 구성된 교육 세트와 10,000개의 예제로 구성된 테스트 세트입니다. 각 예제는 10개 클래스의 레이블과 연결된 28x28 회색 이미지입니다. Zalando는 Fashion-MNIST가 기계 학습 알고리즘을 벤치마킹하기 위한 원래 MNIST 데이터 세트의 직접 drop-in 대체 역할을 할 것입니다. 교육 및 테스트 분할의 동일한 이미지 크기와 구조를 공유합니다.\n",
        "\n",
        "### **컨텐츠**\n",
        "- 각 이미지는 높이가 28픽셀이고 너비가 28픽셀이며 총 784픽셀입니다. 각 픽셀에는 하나의 픽셀 값이 연결되어 해당 픽셀의 밝기 또는 어두움을 나타내며, 숫자가 높을수록 진하다는 의미입니다. 이 픽셀 값은 0에서 255 사이의 정수입니다. 교육 및 테스트 데이터 세트에는 785개의 열이 있습니다. 첫 번째 열은 클래스 레이블로 구성되며 의류 품목을 나타냅니다. 나머지 열에는 연결된 이미지의 픽셀 값이 포함됩니다.\n",
        "\n",
        "- 이미지에서 픽셀을 찾으려면 x를 x = i * 28 + j로 분해했다고 가정하였습니다. 여기서 i와 j는 0과 27 사이의 정수입니다. 픽셀은 28 x 28 행렬의 행 i 및 열 j에 있습니다. 예를 들어, 픽셀 31은 아래 ASCII 다이어그램과 같이 왼쪽에서 네 번째 열에 있는 픽셀과 위쪽의 두 번째 행을 나타냅니다."
      ]
    },
    {
      "cell_type": "markdown",
      "metadata": {
        "id": "LCwN4-4hjn-J"
      },
      "source": [
        "### **라 벨**\n",
        "  - 각각의 training과 test 예제는 다음 labels들이 한개씩 할당되어있습니다.\n",
        "    - 0 T-shirt/top\n",
        "    - 1 Trouser\n",
        " - 2 Pullover\n",
        " - 3 Dress\n",
        " - 4 Coat\n",
        " - 5 Sandal\n",
        " - 6 Shirt\n",
        " - 7 Sneaker\n",
        " - 8 Bag\n",
        " - 9 Ankle boot"
      ]
    },
    {
      "cell_type": "markdown",
      "metadata": {
        "id": "q4l8praSKUcm"
      },
      "source": [
        "### **TL;DR**\n",
        "  - 각 행은 분리된 이미지입니다.\n",
        "  - 첫번째 열은 클래스 라벨입니다.\n",
        "  - Remaining 열들은 픽셀의 개수들입니다.(Total = 784)\n",
        "  - 각각의 값은 픽셀의 darkness입니다. (1에서 255)"
      ]
    },
    {
      "cell_type": "code",
      "metadata": {
        "colab": {
          "base_uri": "https://localhost:8080/",
          "height": 35
        },
        "id": "JJglDARNe0Ui",
        "outputId": "6acb98b8-73f6-476c-aa45-2e2cc8369ac6"
      },
      "source": [
        "import tensorflow\n",
        "tensorflow.keras.__version__  "
      ],
      "execution_count": null,
      "outputs": [
        {
          "output_type": "execute_result",
          "data": {
            "application/vnd.google.colaboratory.intrinsic+json": {
              "type": "string"
            },
            "text/plain": [
              "'2.5.0'"
            ]
          },
          "metadata": {
            "tags": []
          },
          "execution_count": 2
        }
      ]
    },
    {
      "cell_type": "markdown",
      "metadata": {
        "id": "z8ORQbpBkaRA"
      },
      "source": [
        "  - tensorflow의 버전을 확인해 줍니다.\n",
        "  - 현재의 tensorflow의 버전이 2.5.0이라는 것을 알 수 있습니다."
      ]
    },
    {
      "cell_type": "markdown",
      "metadata": {
        "id": "oHpTkzMKe0Ui"
      },
      "source": [
        "## **1. Fashion Mnist의 데이터 구축 및 데이터 확인을 해줍니다.**\n"
      ]
    },
    {
      "cell_type": "code",
      "metadata": {
        "id": "CzEV9XCEe0Uj"
      },
      "source": [
        "import pandas as pd #pandas를 사용하기 위해 pandas를 불러와 줍니다.\n",
        "import numpy as np  #numpy을 사용하기 위해 numpy을 불러와 줍니다.\n",
        "import matplotlib.pyplot as plt  #이미지를 출력해주기 위해서 matplotlib에서 plt을 가지고 와줍니다.\n",
        "from tensorflow.keras import utils #utils을 사용하기 위해서 tensorflow에서 utils을 가지고 와줍니다."
      ],
      "execution_count": null,
      "outputs": []
    },
    {
      "cell_type": "markdown",
      "metadata": {
        "id": "Sn7j-wwnL0-N"
      },
      "source": [
        "  - Fashion Mnist의 데이터를 돌릴 때, 필요한 패키지들을 불러와 줍니다.\n",
        "    - **Pandas**는 쉽고 직관적인 관계형 또는 분류된 데이터로 작업 할 수 있도록 설계된 빠르고 유연하며 표현이 풍부한 데이터 구조를 제공하는 Python 패키지입니다.\n",
        "    - **Numpy**는 Python에서 벡터, 행렬 등 수치 연산을 수행하는 선형대수(Linear algebra) 라이브러리입니다. 선형대수 관련 수치 연산을 지원하고 내부적으로는 C로 구현되어 있어 연산이 빠른 속도로 수행됩니다. 또한 Scipy와 함께 사용하면 공학용 소프트웨어인 MATLAB에 버금가는 기능을 지원한다고 알려져 있습니다.\n",
        "    - **pyplot** 모듈의 각각의 함수를 사용하여 그래프를 만들고 변화를 줄 수 있습니다. 예를 들어, 그래프 영역을 만들고, 몇 개의 선을 표현하고, 레이블로 꾸미는 등의 일을 할 수 있습니다."
      ]
    },
    {
      "cell_type": "code",
      "metadata": {
        "id": "0OGjqhHhe0Uk",
        "colab": {
          "base_uri": "https://localhost:8080/"
        },
        "outputId": "2f19e24a-610b-4b32-9307-118223bd5de4"
      },
      "source": [
        "from tensorflow.keras.datasets import fashion_mnist  #fashion_mnist를 불러와 줍니다.\n",
        "\n",
        "(train_images, train_labels), (test_images, test_labels) = fashion_mnist.load_data()  \n",
        "#fashion_mnist에서 train_images, train_labels, test_images, test_labels를 불러옵니다."
      ],
      "execution_count": null,
      "outputs": [
        {
          "output_type": "stream",
          "text": [
            "Downloading data from https://storage.googleapis.com/tensorflow/tf-keras-datasets/train-labels-idx1-ubyte.gz\n",
            "32768/29515 [=================================] - 0s 0us/step\n",
            "Downloading data from https://storage.googleapis.com/tensorflow/tf-keras-datasets/train-images-idx3-ubyte.gz\n",
            "26427392/26421880 [==============================] - 0s 0us/step\n",
            "Downloading data from https://storage.googleapis.com/tensorflow/tf-keras-datasets/t10k-labels-idx1-ubyte.gz\n",
            "8192/5148 [===============================================] - 0s 0us/step\n",
            "Downloading data from https://storage.googleapis.com/tensorflow/tf-keras-datasets/t10k-images-idx3-ubyte.gz\n",
            "4423680/4422102 [==============================] - 0s 0us/step\n"
          ],
          "name": "stdout"
        }
      ]
    },
    {
      "cell_type": "markdown",
      "metadata": {
        "id": "C2L-xnV4L6Th"
      },
      "source": [
        "  - Fashion Mnist의 데이터를 돌릴 때, 필요한 Fashion_Mnist의 데이터를 tensorflow에서 가지고 와줍니다.\n",
        "    - tensorflow에서 **train_images, train_labels, test_images, test_labels**을 가지고 온 것을 확인할 수 있습니다."
      ]
    },
    {
      "cell_type": "markdown",
      "metadata": {
        "id": "NyZRQYz5NXGp"
      },
      "source": [
        "### **<Fashion_Mnist의 train의 구조가 어떻게 되어있는지를 파악해줍니다.>**"
      ]
    },
    {
      "cell_type": "code",
      "metadata": {
        "colab": {
          "base_uri": "https://localhost:8080/"
        },
        "id": "G64uU4p7e0Uk",
        "outputId": "ff6beb76-9630-4b95-f1d3-bba3e0036b96"
      },
      "source": [
        "train_images[:2,:,:]"
      ],
      "execution_count": null,
      "outputs": [
        {
          "output_type": "execute_result",
          "data": {
            "text/plain": [
              "array([[[0, 0, 0, ..., 0, 0, 0],\n",
              "        [0, 0, 0, ..., 0, 0, 0],\n",
              "        [0, 0, 0, ..., 0, 0, 0],\n",
              "        ...,\n",
              "        [0, 0, 0, ..., 0, 0, 0],\n",
              "        [0, 0, 0, ..., 0, 0, 0],\n",
              "        [0, 0, 0, ..., 0, 0, 0]],\n",
              "\n",
              "       [[0, 0, 0, ..., 0, 0, 0],\n",
              "        [0, 0, 0, ..., 0, 0, 0],\n",
              "        [0, 0, 0, ..., 0, 0, 0],\n",
              "        ...,\n",
              "        [0, 0, 0, ..., 0, 0, 0],\n",
              "        [0, 0, 0, ..., 0, 0, 0],\n",
              "        [0, 0, 0, ..., 0, 0, 0]]], dtype=uint8)"
            ]
          },
          "metadata": {
            "tags": []
          },
          "execution_count": 5
        }
      ]
    },
    {
      "cell_type": "markdown",
      "metadata": {
        "id": "BheqXJkBe0Uk"
      },
      "source": [
        "  - 처음으로 train_images가 어떻게 구성이 되어있는지를 확인해 줍니다.\n",
        "    - **train_images[:2 , : , :]**은 3개의 array가 되는 것을 확인할 수 있습니다."
      ]
    },
    {
      "cell_type": "code",
      "metadata": {
        "colab": {
          "base_uri": "https://localhost:8080/"
        },
        "id": "fVlDy4hMe0Uk",
        "outputId": "390132e9-0d3e-472c-c4de-356cd950aaa2"
      },
      "source": [
        "train_images.shape"
      ],
      "execution_count": null,
      "outputs": [
        {
          "output_type": "execute_result",
          "data": {
            "text/plain": [
              "(60000, 28, 28)"
            ]
          },
          "metadata": {
            "tags": []
          },
          "execution_count": 6
        }
      ]
    },
    {
      "cell_type": "markdown",
      "metadata": {
        "id": "cDPNePIle0Ul"
      },
      "source": [
        "- train_images.shape을 통해서 train data안에 60000개와 28x28픽셀이 있는 것을 shape을 통해 알 수 있습니다."
      ]
    },
    {
      "cell_type": "code",
      "metadata": {
        "colab": {
          "base_uri": "https://localhost:8080/"
        },
        "id": "_F3lgT8be0Ul",
        "outputId": "437863a5-5597-43c8-b5af-95348d17a341"
      },
      "source": [
        "len(train_labels)"
      ],
      "execution_count": null,
      "outputs": [
        {
          "output_type": "execute_result",
          "data": {
            "text/plain": [
              "60000"
            ]
          },
          "metadata": {
            "tags": []
          },
          "execution_count": 7
        }
      ]
    },
    {
      "cell_type": "markdown",
      "metadata": {
        "id": "HFTSkyiye0Ul"
      },
      "source": [
        "- len(train_labels)을 통해서 train_labels의 크기가 60000개라는 것을 알 수 있습니다."
      ]
    },
    {
      "cell_type": "code",
      "metadata": {
        "colab": {
          "base_uri": "https://localhost:8080/"
        },
        "id": "6AFFmMRae0Ul",
        "outputId": "bc163948-d5b2-4b5d-eb00-2621ff4b1377"
      },
      "source": [
        "train_labels"
      ],
      "execution_count": null,
      "outputs": [
        {
          "output_type": "execute_result",
          "data": {
            "text/plain": [
              "array([9, 0, 0, ..., 3, 0, 5], dtype=uint8)"
            ]
          },
          "metadata": {
            "tags": []
          },
          "execution_count": 8
        }
      ]
    },
    {
      "cell_type": "markdown",
      "metadata": {
        "id": "0dR2rYyOe0Ul"
      },
      "source": [
        "- train_labels을 해줘서 0~9까지의 숫자가 나오게되고 dtype이 integer를 가지고 8비트라는 것을 알 수 있습니다."
      ]
    },
    {
      "cell_type": "markdown",
      "metadata": {
        "id": "J93yymCSN0WH"
      },
      "source": [
        "### **<Fashion_Mnist의 test의 구조가 어떻게 되어있는지를 파악해줍니다.>**"
      ]
    },
    {
      "cell_type": "code",
      "metadata": {
        "colab": {
          "base_uri": "https://localhost:8080/"
        },
        "id": "rfecOCcbe0Um",
        "outputId": "a8759611-4524-4bae-94f0-f154a7311dda"
      },
      "source": [
        "test_images.shape  "
      ],
      "execution_count": null,
      "outputs": [
        {
          "output_type": "execute_result",
          "data": {
            "text/plain": [
              "(10000, 28, 28)"
            ]
          },
          "metadata": {
            "tags": []
          },
          "execution_count": 9
        }
      ]
    },
    {
      "cell_type": "markdown",
      "metadata": {
        "id": "VuP8Pqcee0Um"
      },
      "source": [
        "  - test_images가 어떻게 구성이 되어있는지 확인을 해줍니다.\n",
        "    - train_images.shape을 통해서 train data안에 10,000개와 28x28픽셀이 있는 것을 shape을 통해 알 수 있습니다."
      ]
    },
    {
      "cell_type": "code",
      "metadata": {
        "colab": {
          "base_uri": "https://localhost:8080/"
        },
        "id": "miDJDrtue0Um",
        "outputId": "a5c13d3c-23d5-426b-ed91-9d002cfe5819"
      },
      "source": [
        "len(test_labels)"
      ],
      "execution_count": null,
      "outputs": [
        {
          "output_type": "execute_result",
          "data": {
            "text/plain": [
              "10000"
            ]
          },
          "metadata": {
            "tags": []
          },
          "execution_count": 10
        }
      ]
    },
    {
      "cell_type": "markdown",
      "metadata": {
        "id": "9AtRtkdqe0Um"
      },
      "source": [
        "- len(test_labels)을 통해서 test_labels의 크기가 10,000개라는 것을 알 수 있습니다."
      ]
    },
    {
      "cell_type": "code",
      "metadata": {
        "colab": {
          "base_uri": "https://localhost:8080/"
        },
        "id": "-ufM_qiDe0Um",
        "outputId": "0d4caf13-7075-4ee8-99e6-5d29855d62d9"
      },
      "source": [
        "test_labels"
      ],
      "execution_count": null,
      "outputs": [
        {
          "output_type": "execute_result",
          "data": {
            "text/plain": [
              "array([9, 2, 1, ..., 8, 1, 5], dtype=uint8)"
            ]
          },
          "metadata": {
            "tags": []
          },
          "execution_count": 11
        }
      ]
    },
    {
      "cell_type": "markdown",
      "metadata": {
        "id": "WC1eMKVPe0Un"
      },
      "source": [
        "- test_labels을 해줘서 0~9까지의 숫자가 나오게되고 dtype이 integer를 가지고 8비트라는 것을 알 수 있습니다."
      ]
    },
    {
      "cell_type": "markdown",
      "metadata": {
        "id": "us0qivJhOb0r"
      },
      "source": [
        "## **2. Fashion Mnist의 실제 데이터 Plot 출력해주었습니다.**"
      ]
    },
    {
      "cell_type": "markdown",
      "metadata": {
        "id": "f95r3bXYUkE_"
      },
      "source": [
        "  - plt의 imshow를 통해서 그림을 Plot해 주었습니다. 첫번째는 컬러로 출력을 하였으며 두번째는 흑백으로 출력을 하여 Plot이 어떻게 생겼는지 확인을 하였습니다."
      ]
    },
    {
      "cell_type": "code",
      "metadata": {
        "colab": {
          "base_uri": "https://localhost:8080/",
          "height": 283
        },
        "id": "qhyn-N8hOZlF",
        "outputId": "992d7e29-df31-44f6-ec03-82c2ea24c4fc"
      },
      "source": [
        "plt.imshow(train_images[0])"
      ],
      "execution_count": null,
      "outputs": [
        {
          "output_type": "execute_result",
          "data": {
            "text/plain": [
              "<matplotlib.image.AxesImage at 0x7f41ac72c450>"
            ]
          },
          "metadata": {
            "tags": []
          },
          "execution_count": 12
        },
        {
          "output_type": "display_data",
          "data": {
            "image/png": "[encoded data removed]",
            "text/plain": [
              "<Figure size 432x288 with 1 Axes>"
            ]
          },
          "metadata": {
            "tags": [],
            "needs_background": "light"
          }
        }
      ]
    },
    {
      "cell_type": "markdown",
      "metadata": {
        "id": "wa7r5w3sOtZl"
      },
      "source": [
        "  - train_image[0]를 Plot을 해줍니다. Plot을 한 걸로 보아서는 운동화가 Plot된 것을 볼 수 있습니다.\n"
      ]
    },
    {
      "cell_type": "code",
      "metadata": {
        "colab": {
          "base_uri": "https://localhost:8080/",
          "height": 283
        },
        "id": "a4pTgc3sO6Vo",
        "outputId": "4b245edf-da20-4731-8af3-fb2393320775"
      },
      "source": [
        "plt.imshow(train_images[100])"
      ],
      "execution_count": null,
      "outputs": [
        {
          "output_type": "execute_result",
          "data": {
            "text/plain": [
              "<matplotlib.image.AxesImage at 0x7f41b86a0890>"
            ]
          },
          "metadata": {
            "tags": []
          },
          "execution_count": 13
        },
        {
          "output_type": "display_data",
          "data": {
            "image/png": "[encoded data removed]",
            "text/plain": [
              "<Figure size 432x288 with 1 Axes>"
            ]
          },
          "metadata": {
            "tags": [],
            "needs_background": "light"
          }
        }
      ]
    },
    {
      "cell_type": "markdown",
      "metadata": {
        "id": "DttbboXgRZ-X"
      },
      "source": [
        "  - train_image[100]를 Plot을 해줍니다. Plot을 한 걸로 보아서는 핸드백이 Plot된 것을 볼 수 있습니다."
      ]
    },
    {
      "cell_type": "code",
      "metadata": {
        "colab": {
          "base_uri": "https://localhost:8080/",
          "height": 283
        },
        "id": "wa3LHq5eRcgj",
        "outputId": "1084d862-b1b6-4612-e09b-051ff75edcb8"
      },
      "source": [
        "plt.imshow(test_images[0])"
      ],
      "execution_count": null,
      "outputs": [
        {
          "output_type": "execute_result",
          "data": {
            "text/plain": [
              "<matplotlib.image.AxesImage at 0x7f41ac1dd390>"
            ]
          },
          "metadata": {
            "tags": []
          },
          "execution_count": 14
        },
        {
          "output_type": "display_data",
          "data": {
            "image/png": "[encoded data removed]",
            "text/plain": [
              "<Figure size 432x288 with 1 Axes>"
            ]
          },
          "metadata": {
            "tags": [],
            "needs_background": "light"
          }
        }
      ]
    },
    {
      "cell_type": "markdown",
      "metadata": {
        "id": "IijJjfoWRyEm"
      },
      "source": [
        "  - test_image[0]를 Plot을 해줍니다. Plot을 한 걸로 보아서는 구두가 Plot된 것을 볼 수 있습니다."
      ]
    },
    {
      "cell_type": "code",
      "metadata": {
        "colab": {
          "base_uri": "https://localhost:8080/",
          "height": 283
        },
        "id": "k72ft4jqRugO",
        "outputId": "0a86babe-7505-4d65-e5aa-bfbee3e0cd87"
      },
      "source": [
        "plt.imshow(test_images[100])"
      ],
      "execution_count": null,
      "outputs": [
        {
          "output_type": "execute_result",
          "data": {
            "text/plain": [
              "<matplotlib.image.AxesImage at 0x7f41ac14bbd0>"
            ]
          },
          "metadata": {
            "tags": []
          },
          "execution_count": 15
        },
        {
          "output_type": "display_data",
          "data": {
            "image/png": "[encoded data removed]",
            "text/plain": [
              "<Figure size 432x288 with 1 Axes>"
            ]
          },
          "metadata": {
            "tags": [],
            "needs_background": "light"
          }
        }
      ]
    },
    {
      "cell_type": "markdown",
      "metadata": {
        "id": "Sv9fX_J-R1-0"
      },
      "source": [
        "  - test_image[100]를 Plot을 해줍니다. Plot을 한 걸로 보아서는 원피스가 Plot된 것을 볼 수 있습니다."
      ]
    },
    {
      "cell_type": "code",
      "metadata": {
        "colab": {
          "base_uri": "https://localhost:8080/",
          "height": 265
        },
        "id": "91kKzuL9OoQf",
        "outputId": "ddd1ab87-7b34-4f84-ed58-ef332f9963e6"
      },
      "source": [
        "digit = train_images[0]\n",
        "\n",
        "plt.imshow(digit, cmap=plt.cm.binary)   #matplotlib을 간단하게 plt로 바꾸어주고 plt.show를 사용하여 이미지를 출력해 주었습니다.\n",
        "plt.show()"
      ],
      "execution_count": null,
      "outputs": [
        {
          "output_type": "display_data",
          "data": {
            "image/png": "[encoded data removed]",
            "text/plain": [
              "<Figure size 432x288 with 1 Axes>"
            ]
          },
          "metadata": {
            "tags": [],
            "needs_background": "light"
          }
        }
      ]
    },
    {
      "cell_type": "markdown",
      "metadata": {
        "id": "vrBxIV5QTOSf"
      },
      "source": [
        "  - train_images[0]을 흑백으로 해서 결과를 출력해주었습니다. Plot을 한 걸로 보아서는 운동화가 Plot된 것을 볼 수 있습니다."
      ]
    },
    {
      "cell_type": "code",
      "metadata": {
        "colab": {
          "base_uri": "https://localhost:8080/",
          "height": 265
        },
        "id": "yz6x1kSUTZor",
        "outputId": "a9f8d66d-d100-4575-811f-e8e47f8edf04"
      },
      "source": [
        "digit = train_images[100]\n",
        "\n",
        "plt.imshow(digit, cmap=plt.cm.binary)   #matplotlib을 간단하게 plt로 바꾸어주고 plt.show를 사용하여 이미지를 출력해 주었습니다.\n",
        "plt.show()"
      ],
      "execution_count": null,
      "outputs": [
        {
          "output_type": "display_data",
          "data": {
            "image/png": "[encoded data removed]",
            "text/plain": [
              "<Figure size 432x288 with 1 Axes>"
            ]
          },
          "metadata": {
            "tags": [],
            "needs_background": "light"
          }
        }
      ]
    },
    {
      "cell_type": "markdown",
      "metadata": {
        "id": "VTarO2v3Tos7"
      },
      "source": [
        "  - train_images[100]을 흑백으로 해서 결과를 출력해주었습니다. Plot을 한 걸로 보아서는 핸드백이 Plot된 것을 볼 수 있습니다."
      ]
    },
    {
      "cell_type": "code",
      "metadata": {
        "colab": {
          "base_uri": "https://localhost:8080/",
          "height": 265
        },
        "id": "t1RNg2jITqI3",
        "outputId": "eb769dad-fe12-49e6-803b-76af673f57f6"
      },
      "source": [
        "digit = test_images[0]\n",
        "\n",
        "plt.imshow(digit, cmap=plt.cm.binary)   #matplotlib을 간단하게 plt로 바꾸어주고 plt.show를 사용하여 이미지를 출력해 주었습니다.\n",
        "plt.show()"
      ],
      "execution_count": null,
      "outputs": [
        {
          "output_type": "display_data",
          "data": {
            "image/png": "[encoded data removed]",
            "text/plain": [
              "<Figure size 432x288 with 1 Axes>"
            ]
          },
          "metadata": {
            "tags": [],
            "needs_background": "light"
          }
        }
      ]
    },
    {
      "cell_type": "markdown",
      "metadata": {
        "id": "Iemj-QSrTxEb"
      },
      "source": [
        "  - test_images[0]을 흑백으로 해서 결과를 출력해주었습니다. Plot을 한 걸로 보아서는 구두가 Plot된 것을 볼 수 있습니다."
      ]
    },
    {
      "cell_type": "code",
      "metadata": {
        "colab": {
          "base_uri": "https://localhost:8080/",
          "height": 265
        },
        "id": "HJeVobXDT85z",
        "outputId": "71d05ecd-5200-4f17-8978-56a7f8485de5"
      },
      "source": [
        "digit = test_images[100]\n",
        "\n",
        "plt.imshow(digit, cmap=plt.cm.binary)   #matplotlib을 간단하게 plt로 바꾸어주고 plt.show를 사용하여 이미지를 출력해 주었습니다.\n",
        "plt.show()"
      ],
      "execution_count": null,
      "outputs": [
        {
          "output_type": "display_data",
          "data": {
            "image/png": "[encoded data removed]",
            "text/plain": [
              "<Figure size 432x288 with 1 Axes>"
            ]
          },
          "metadata": {
            "tags": [],
            "needs_background": "light"
          }
        }
      ]
    },
    {
      "cell_type": "markdown",
      "metadata": {
        "id": "rJkrpBtXT8h4"
      },
      "source": [
        "  - test_images[100]을 흑백으로 해서 결과를 출력해주었습니다. Plot을 한 걸로 보아서는 원피스가 Plot된 것을 볼 수 있습니다."
      ]
    },
    {
      "cell_type": "markdown",
      "metadata": {
        "id": "8yWk4JYte0Un"
      },
      "source": [
        "## **3. Fashion_Mnist의 Models과 Layer를 만들어 주었습니다.**"
      ]
    },
    {
      "cell_type": "code",
      "metadata": {
        "id": "9fW_g1tSe0Un"
      },
      "source": [
        "from tensorflow.keras import models        #tensorflow에서 models을 가지고 옵니다.\n",
        "from tensorflow.keras import layers        #tensorflow에서 layers를 가지고 옵니다.\n",
        "\n",
        "model = models.Sequential()    #models에서 Sequential을 가지고와서 층을 만들어 주었습니다.\n",
        "model.add(layers.Conv2D(32, (3, 3), padding = \"valid\", activation='relu', input_shape=(28, 28, 1))) #그리고 여기에서 부터 convnet 레이어를 3개를 달아 두었습니다.\n",
        "model.add(layers.MaxPooling2D((2, 2))) #그리고 convnet 가운데에 MaxPooling을 통해서 Pooling을 해 두었습니다.\n",
        "model.add(layers.Conv2D(64, (3, 3),  padding = \"valid\", activation='relu'))\n",
        "model.add(layers.MaxPooling2D((2, 2)))\n",
        "model.add(layers.Conv2D(64, (3, 3),  padding = \"valid\", activation='relu')) "
      ],
      "execution_count": null,
      "outputs": []
    },
    {
      "cell_type": "markdown",
      "metadata": {
        "id": "8_YDPkuve0Un"
      },
      "source": [
        "- input_shape이 28 x 28이여서 (28, 28, 1)을 해줍니다."
      ]
    },
    {
      "cell_type": "code",
      "metadata": {
        "colab": {
          "base_uri": "https://localhost:8080/"
        },
        "id": "uFSPloXue0Un",
        "outputId": "a2b61e16-92da-438e-8c43-162cba317025"
      },
      "source": [
        "model.summary()"
      ],
      "execution_count": null,
      "outputs": [
        {
          "output_type": "stream",
          "text": [
            "Model: \"sequential\"\n",
            "_________________________________________________________________\n",
            "Layer (type)                 Output Shape              Param #   \n",
            "=================================================================\n",
            "conv2d (Conv2D)              (None, 26, 26, 32)        320       \n",
            "_________________________________________________________________\n",
            "max_pooling2d (MaxPooling2D) (None, 13, 13, 32)        0         \n",
            "_________________________________________________________________\n",
            "conv2d_1 (Conv2D)            (None, 11, 11, 64)        18496     \n",
            "_________________________________________________________________\n",
            "max_pooling2d_1 (MaxPooling2 (None, 5, 5, 64)          0         \n",
            "_________________________________________________________________\n",
            "conv2d_2 (Conv2D)            (None, 3, 3, 64)          36928     \n",
            "=================================================================\n",
            "Total params: 55,744\n",
            "Trainable params: 55,744\n",
            "Non-trainable params: 0\n",
            "_________________________________________________________________\n"
          ],
          "name": "stdout"
        }
      ]
    },
    {
      "cell_type": "markdown",
      "metadata": {
        "id": "-ZmDgrQ5e0Uo"
      },
      "source": [
        "  - model.summary()를 통해 sequential Model을 확인해 보았습니다.\n",
        "    - **첫번째 Layer**는 conv2가 되어있고 Shape은 (None, 26, 26, 32)이며 Param은 320으로 되어있는 것을 볼 수 있습니다.\n",
        "    - **두번째 Layer**는 Max_Pooling2d로 되어있으며, Shape은 (None, 13, 13, 32)이며 Max_Pooling을 하였기 때문에 첫번째 Layer에서 26이 였던게 반으로 줄어서 13으로 되어 있는 것을 확인 할 수 있으며 Param은 0으로 되어 있는 것을 볼 수 있습니다.\n",
        "    - **세번째 Layer**는 conv2_1가 되어있고 Shape은 (None, 11, 11, 64)이며 Param은 18496으로 되어있는 것을 볼 수 있습니다.\n",
        "    - **네번째 Layer**는 Max_Pooling2d_1로 되어있으며, Shape은 (None, 5, 5, 64)이며 Max_Pooling을 하였기 때문에 첫번째 Layer에서 11이 였던게 반으로 줄어서 5으로 되어 있는 것을 확인 할 수 있으며 Param은 0으로 되어 있는 것을 볼 수 있습니다.\n",
        "    - **다섯번째 Layer**는 conv2d_2가 되어있고 Shape은 (Nonve, 3, 3, 64)이며 Param은 36928로 되어 있는 것을 볼 수 있습니다.\n",
        "\n",
        "  - 그리고 Total params는 55,744로 되어 있습니다."
      ]
    },
    {
      "cell_type": "code",
      "metadata": {
        "id": "lQFRjH6Xe0Uo"
      },
      "source": [
        "model.add(layers.Flatten())   \n",
        "model.add(layers.Dense(30, activation='relu')) \n",
        "model.add(layers.Dense(10, activation='softmax')) "
      ],
      "execution_count": null,
      "outputs": []
    },
    {
      "cell_type": "markdown",
      "metadata": {
        "id": "qk3EDnOcXXE_"
      },
      "source": [
        "- Layers를 Flatten 해주었습니다.\n",
        "- Dense Layer에서는 30으로 하고 activation은 relu를 사용하였습니다.\n",
        "- Dense Layer에서는 30으로 하고 activation은 softmax를 사용하였습니다"
      ]
    },
    {
      "cell_type": "code",
      "metadata": {
        "colab": {
          "base_uri": "https://localhost:8080/"
        },
        "id": "xgl5yPgve0Uo",
        "outputId": "f43feee1-7ee2-4968-9a31-1dd72e3aa89e"
      },
      "source": [
        "model.summary()"
      ],
      "execution_count": null,
      "outputs": [
        {
          "output_type": "stream",
          "text": [
            "Model: \"sequential\"\n",
            "_________________________________________________________________\n",
            "Layer (type)                 Output Shape              Param #   \n",
            "=================================================================\n",
            "conv2d (Conv2D)              (None, 26, 26, 32)        320       \n",
            "_________________________________________________________________\n",
            "max_pooling2d (MaxPooling2D) (None, 13, 13, 32)        0         \n",
            "_________________________________________________________________\n",
            "conv2d_1 (Conv2D)            (None, 11, 11, 64)        18496     \n",
            "_________________________________________________________________\n",
            "max_pooling2d_1 (MaxPooling2 (None, 5, 5, 64)          0         \n",
            "_________________________________________________________________\n",
            "conv2d_2 (Conv2D)            (None, 3, 3, 64)          36928     \n",
            "_________________________________________________________________\n",
            "flatten (Flatten)            (None, 576)               0         \n",
            "_________________________________________________________________\n",
            "dense (Dense)                (None, 30)                17310     \n",
            "_________________________________________________________________\n",
            "dense_1 (Dense)              (None, 10)                310       \n",
            "=================================================================\n",
            "Total params: 73,364\n",
            "Trainable params: 73,364\n",
            "Non-trainable params: 0\n",
            "_________________________________________________________________\n"
          ],
          "name": "stdout"
        }
      ]
    },
    {
      "cell_type": "markdown",
      "metadata": {
        "id": "i7NXrYYTe0Uo"
      },
      "source": [
        "- 다시 model.summary를 해주게 되면, Flatten Layer, Dense Layer, desne_1 Layer가 추가 된 것을 볼 수 있습니다.\n",
        "  - **Flatten Layer**은 Shape이 (None, 576)이며, Param은 0이라는 것을 알 수 있습니다.\n",
        "  - **Dense Layer**는 Shape이 (None, 30)이며, Param은 17310으로 되었다는 것을 알 수 있습니다.\n",
        "  - **Dense_1 Layer**는 Shape이 (None, 10)이며, Param은 310으로 되었다는 것을 알 수 있습니다.\n",
        "- 그리고 **Total params**도 **55,744**에서 **73,364**로 바뀌게 되었다는 것을 알 수 있었습니다."
      ]
    },
    {
      "cell_type": "code",
      "metadata": {
        "colab": {
          "base_uri": "https://localhost:8080/"
        },
        "id": "qPoh8hrDe0Up",
        "outputId": "5043b81f-e717-40a6-92c3-64e4e2ead13b"
      },
      "source": [
        "train_images.shape"
      ],
      "execution_count": null,
      "outputs": [
        {
          "output_type": "execute_result",
          "data": {
            "text/plain": [
              "(60000, 28, 28)"
            ]
          },
          "metadata": {
            "tags": []
          },
          "execution_count": 24
        }
      ]
    },
    {
      "cell_type": "markdown",
      "metadata": {
        "id": "VPglel_kmI4R"
      },
      "source": [
        "- **train_images.shape**이 60,000이고 가로가 28 세로가 28이라는 것을 알 수 있습니다."
      ]
    },
    {
      "cell_type": "code",
      "metadata": {
        "colab": {
          "base_uri": "https://localhost:8080/"
        },
        "id": "ZyiizEWWe0Up",
        "outputId": "5b499869-5c9f-4f6c-f4db-9e5f04bdca80"
      },
      "source": [
        "import numpy as np  \n",
        "np.max(train_images)"
      ],
      "execution_count": null,
      "outputs": [
        {
          "output_type": "execute_result",
          "data": {
            "text/plain": [
              "255"
            ]
          },
          "metadata": {
            "tags": []
          },
          "execution_count": 25
        }
      ]
    },
    {
      "cell_type": "markdown",
      "metadata": {
        "id": "BoReJKpMmTqD"
      },
      "source": [
        "- **train_images의 max**가 되는 것을 보았을 때, 255가 되는 것을 확인해 줄 수 있습니다. \n",
        "- 이것을 해주는 이유는 255로 나누어 주어야 하는데 실제 값이 255가 되는지 확인해 주기 위해 출력을 하였습니다."
      ]
    },
    {
      "cell_type": "code",
      "metadata": {
        "id": "lfUYjLFYe0Up"
      },
      "source": [
        "train_images = train_images.reshape((60000, 28, 28, 1))  #여기에서는 28이 가로, 28이 세로, 그리고 1은 채널이고 원래 RGB는 3인데, 여기에서는 흑백이라서 1이 된다는 것을 알 수 있습니다. \n",
        "train_images = train_images.astype('float32') / 255 #여기에서는 255로 나누어서 0에서 1의 값이 되도록 표준화를 시켜줍니다.\n",
        "\n",
        "test_images = test_images.reshape((10000, 28, 28, 1)) #test도 train과 마찬가지로 같은 방법으로 해줍니다.\n",
        "test_images = test_images.astype('float32') / 255"
      ],
      "execution_count": null,
      "outputs": []
    },
    {
      "cell_type": "markdown",
      "metadata": {
        "id": "VSI3SQ6VmpPw"
      },
      "source": [
        "- **train_images**와 **test_images** 둘 다 같은 방법을 취해줍니다.\n",
        "  - 28이 가로, 28이 세로, 그리고 1은 채널이고 원래 RGB는 3인데, 흑백이라서 1이 된다는 것을 알 수 있습니다. \n",
        "\n",
        "  - 255로 나누어서 0에서 1의 값이 되도록 표준화를 시켜줍니다."
      ]
    },
    {
      "cell_type": "code",
      "metadata": {
        "colab": {
          "base_uri": "https://localhost:8080/"
        },
        "id": "zDwBhPore0Up",
        "outputId": "0f173193-152c-4a25-d4ee-3fdbfff1a9e6"
      },
      "source": [
        "import numpy as np\n",
        "np.max(train_images)"
      ],
      "execution_count": null,
      "outputs": [
        {
          "output_type": "execute_result",
          "data": {
            "text/plain": [
              "1.0"
            ]
          },
          "metadata": {
            "tags": []
          },
          "execution_count": 27
        }
      ]
    },
    {
      "cell_type": "markdown",
      "metadata": {
        "id": "edeWPmD9nGhV"
      },
      "source": [
        "- 위에서 train_images의 max가 255였는데, 여기에서는 255로 누어 주었기 때문에, max값이 1이 되는 것을 확인할 수 있습니다."
      ]
    },
    {
      "cell_type": "code",
      "metadata": {
        "colab": {
          "base_uri": "https://localhost:8080/"
        },
        "id": "G9spkLSVe0Up",
        "outputId": "138c15ba-f47b-43ab-d4ae-49a38ac63779"
      },
      "source": [
        "train_images.shape"
      ],
      "execution_count": null,
      "outputs": [
        {
          "output_type": "execute_result",
          "data": {
            "text/plain": [
              "(60000, 28, 28, 1)"
            ]
          },
          "metadata": {
            "tags": []
          },
          "execution_count": 28
        }
      ]
    },
    {
      "cell_type": "markdown",
      "metadata": {
        "id": "P4L5WROMniG-"
      },
      "source": [
        "- train_images.sahpe은 60,000이고 가로 28, 세로28 그리고 채널이 1이 되는 것을 볼 수 있습니다.\n",
        "- 위에서 train_images.shape을 하였을 때는 채널 1이 나오지 않았는 데, 위의 코드에서 reshape을 해주어 채널 1이 나오는 것을 확인 할 수 있습니다."
      ]
    },
    {
      "cell_type": "code",
      "metadata": {
        "colab": {
          "base_uri": "https://localhost:8080/"
        },
        "id": "MfmxQK_5e0Uq",
        "outputId": "b7af978f-dd78-42a8-b565-7aa2b2469248"
      },
      "source": [
        "train_labels"
      ],
      "execution_count": null,
      "outputs": [
        {
          "output_type": "execute_result",
          "data": {
            "text/plain": [
              "array([9, 0, 0, ..., 3, 0, 5], dtype=uint8)"
            ]
          },
          "metadata": {
            "tags": []
          },
          "execution_count": 29
        }
      ]
    },
    {
      "cell_type": "code",
      "metadata": {
        "colab": {
          "base_uri": "https://localhost:8080/"
        },
        "id": "zE0a9BW8e0Uq",
        "outputId": "70490842-2c11-4f22-d2d1-4c5de27c38a0"
      },
      "source": [
        "train_labels[:5] "
      ],
      "execution_count": null,
      "outputs": [
        {
          "output_type": "execute_result",
          "data": {
            "text/plain": [
              "array([9, 0, 0, 3, 0], dtype=uint8)"
            ]
          },
          "metadata": {
            "tags": []
          },
          "execution_count": 30
        }
      ]
    },
    {
      "cell_type": "markdown",
      "metadata": {
        "id": "03sisvJvn_8H"
      },
      "source": [
        "- 현재 train_labels을 보았을 때, 0 부터 9까지의 수 중 하나가 나오는 것을 볼 수 있습니다. 그리고 datatype은 uint8이라는 것을 확인할 수 있습니다."
      ]
    },
    {
      "cell_type": "code",
      "metadata": {
        "colab": {
          "base_uri": "https://localhost:8080/"
        },
        "id": "PEGftzdJrwuY",
        "outputId": "ae391342-ebda-4b2f-c9a8-a1584b6164b8"
      },
      "source": [
        "import numpy as np\n",
        "np.max(test_images)"
      ],
      "execution_count": null,
      "outputs": [
        {
          "output_type": "execute_result",
          "data": {
            "text/plain": [
              "1.0"
            ]
          },
          "metadata": {
            "tags": []
          },
          "execution_count": 31
        }
      ]
    },
    {
      "cell_type": "markdown",
      "metadata": {
        "id": "MNcWRI-OsO-1"
      },
      "source": [
        "- 위에서 test_images의 max가 255였는데, 여기에서는 255로 누어 주었기 때문에, max값이 1이 되는 것을 확인할 수 있습니다."
      ]
    },
    {
      "cell_type": "code",
      "metadata": {
        "colab": {
          "base_uri": "https://localhost:8080/"
        },
        "id": "Wn1eaDACrz0E",
        "outputId": "763e4b34-3afd-4af0-a1e7-f6f2a64f2ea1"
      },
      "source": [
        "test_images.shape"
      ],
      "execution_count": null,
      "outputs": [
        {
          "output_type": "execute_result",
          "data": {
            "text/plain": [
              "(10000, 28, 28, 1)"
            ]
          },
          "metadata": {
            "tags": []
          },
          "execution_count": 32
        }
      ]
    },
    {
      "cell_type": "markdown",
      "metadata": {
        "id": "QBovD_crsUQV"
      },
      "source": [
        "  - test_images.sahpe은 60,000이고 가로 28, 세로28 그리고 채널이 1이 되는 것을 볼 수 있습니다.\n",
        "  - 위에서 test_images.shape을 하였을 때는 채널 1이 나오지 않았는 데, 위의 코드에서 reshape을 해주어 채널 1이 나오는 것을 확인 할 수 있습니다."
      ]
    },
    {
      "cell_type": "code",
      "metadata": {
        "colab": {
          "base_uri": "https://localhost:8080/"
        },
        "id": "zr8HsnlKr45K",
        "outputId": "171ca4d7-85a9-4528-d590-b180c4489339"
      },
      "source": [
        "test_labels"
      ],
      "execution_count": null,
      "outputs": [
        {
          "output_type": "execute_result",
          "data": {
            "text/plain": [
              "array([9, 2, 1, ..., 8, 1, 5], dtype=uint8)"
            ]
          },
          "metadata": {
            "tags": []
          },
          "execution_count": 33
        }
      ]
    },
    {
      "cell_type": "code",
      "metadata": {
        "colab": {
          "base_uri": "https://localhost:8080/"
        },
        "id": "OxBgPpsWr-_u",
        "outputId": "275b986b-47be-4206-c02d-4ec8eb4e6acf"
      },
      "source": [
        "test_labels[:5] "
      ],
      "execution_count": null,
      "outputs": [
        {
          "output_type": "execute_result",
          "data": {
            "text/plain": [
              "array([9, 2, 1, 1, 6], dtype=uint8)"
            ]
          },
          "metadata": {
            "tags": []
          },
          "execution_count": 34
        }
      ]
    },
    {
      "cell_type": "markdown",
      "metadata": {
        "id": "h28I4Vmvsbo3"
      },
      "source": [
        "- 현재 test_labels을 보았을 때, 0 부터 9까지의 수 중 하나가 나오는 것을 볼 수 있습니다. 그리고 datatype은 uint8이라는 것을 확인할 수 있습니다."
      ]
    },
    {
      "cell_type": "code",
      "metadata": {
        "id": "Pq5YqBULatdS"
      },
      "source": [
        "from tensorflow.keras.utils import to_categorical"
      ],
      "execution_count": null,
      "outputs": []
    },
    {
      "cell_type": "markdown",
      "metadata": {
        "id": "EfMfk3sdax_z"
      },
      "source": [
        "- **to_categorical**을 사용하기 위해 **tensorflow.keras.utils**에서 가지고 와줍니다.\n",
        "  - **Keras.utils.np_utils**패키지에 있는 **to_categorical**함수는 바로 **One-hot**인코딩을 해주는 함수입니다. **One-hot인코딩이란** 10진수의 정수 형식을 특수한 2진수의 binary 형식으로 바꾸어주는 방법입니다.\n",
        "그래서 parameter로 값에 크기만큼 0으로 된 배열을 만들고, parameter 값 위치에만 1을 넣어줍니다."
      ]
    },
    {
      "cell_type": "code",
      "metadata": {
        "id": "3VNYAE1De0Uq"
      },
      "source": [
        "train_labels = to_categorical(train_labels)  \n",
        "test_labels = to_categorical(test_labels)"
      ],
      "execution_count": null,
      "outputs": []
    },
    {
      "cell_type": "markdown",
      "metadata": {
        "id": "a6b70ARsa4-Q"
      },
      "source": [
        "- train_labels과 test_labels에 One_hot_encoding을 사용하기 위해서 categorical로 바꾸어 줍니다."
      ]
    },
    {
      "cell_type": "code",
      "metadata": {
        "colab": {
          "base_uri": "https://localhost:8080/"
        },
        "id": "guSTEJage0Uq",
        "outputId": "fe32c931-9977-4461-ea11-65ba5fba3ec4"
      },
      "source": [
        "train_labels"
      ],
      "execution_count": null,
      "outputs": [
        {
          "output_type": "execute_result",
          "data": {
            "text/plain": [
              "array([[0., 0., 0., ..., 0., 0., 1.],\n",
              "       [1., 0., 0., ..., 0., 0., 0.],\n",
              "       [1., 0., 0., ..., 0., 0., 0.],\n",
              "       ...,\n",
              "       [0., 0., 0., ..., 0., 0., 0.],\n",
              "       [1., 0., 0., ..., 0., 0., 0.],\n",
              "       [0., 0., 0., ..., 0., 0., 0.]], dtype=float32)"
            ]
          },
          "metadata": {
            "tags": []
          },
          "execution_count": 37
        }
      ]
    },
    {
      "cell_type": "code",
      "metadata": {
        "colab": {
          "base_uri": "https://localhost:8080/"
        },
        "id": "P21Xs6nZe0Uq",
        "outputId": "7930b04b-a71f-442c-bc0a-72a0a3a6da80"
      },
      "source": [
        "train_labels[:5]"
      ],
      "execution_count": null,
      "outputs": [
        {
          "output_type": "execute_result",
          "data": {
            "text/plain": [
              "array([[0., 0., 0., 0., 0., 0., 0., 0., 0., 1.],\n",
              "       [1., 0., 0., 0., 0., 0., 0., 0., 0., 0.],\n",
              "       [1., 0., 0., 0., 0., 0., 0., 0., 0., 0.],\n",
              "       [0., 0., 0., 1., 0., 0., 0., 0., 0., 0.],\n",
              "       [1., 0., 0., 0., 0., 0., 0., 0., 0., 0.]], dtype=float32)"
            ]
          },
          "metadata": {
            "tags": []
          },
          "execution_count": 38
        }
      ]
    },
    {
      "cell_type": "markdown",
      "metadata": {
        "id": "qIi1Wy5Eoa0O"
      },
      "source": [
        "- 위에서 train_labels이 0 부터 9까지의 숫자 중 하나가 나오는 것을 볼 수 있었는데, one_hot_encoding을 하용하여 0과 1이 array로 출력되는 것을 확인 할 수 있습니다. 그리고 datatype도 unit8에서 float32로 바꾼것을 볼 수 있습니다."
      ]
    },
    {
      "cell_type": "code",
      "metadata": {
        "colab": {
          "base_uri": "https://localhost:8080/"
        },
        "id": "7ZD4IPYsbMzQ",
        "outputId": "46141ff4-7cef-4142-f612-567f0788b85e"
      },
      "source": [
        "test_labels"
      ],
      "execution_count": null,
      "outputs": [
        {
          "output_type": "execute_result",
          "data": {
            "text/plain": [
              "array([[0., 0., 0., ..., 0., 0., 1.],\n",
              "       [0., 0., 1., ..., 0., 0., 0.],\n",
              "       [0., 1., 0., ..., 0., 0., 0.],\n",
              "       ...,\n",
              "       [0., 0., 0., ..., 0., 1., 0.],\n",
              "       [0., 1., 0., ..., 0., 0., 0.],\n",
              "       [0., 0., 0., ..., 0., 0., 0.]], dtype=float32)"
            ]
          },
          "metadata": {
            "tags": []
          },
          "execution_count": 39
        }
      ]
    },
    {
      "cell_type": "code",
      "metadata": {
        "colab": {
          "base_uri": "https://localhost:8080/"
        },
        "id": "mDl2i4Y5bQnc",
        "outputId": "133e9ada-91dc-4d33-c965-2d825fbb994d"
      },
      "source": [
        "test_labels[:5]"
      ],
      "execution_count": null,
      "outputs": [
        {
          "output_type": "execute_result",
          "data": {
            "text/plain": [
              "array([[0., 0., 0., 0., 0., 0., 0., 0., 0., 1.],\n",
              "       [0., 0., 1., 0., 0., 0., 0., 0., 0., 0.],\n",
              "       [0., 1., 0., 0., 0., 0., 0., 0., 0., 0.],\n",
              "       [0., 1., 0., 0., 0., 0., 0., 0., 0., 0.],\n",
              "       [0., 0., 0., 0., 0., 0., 1., 0., 0., 0.]], dtype=float32)"
            ]
          },
          "metadata": {
            "tags": []
          },
          "execution_count": 40
        }
      ]
    },
    {
      "cell_type": "markdown",
      "metadata": {
        "id": "QYs0SwFhbP5W"
      },
      "source": [
        "- 위에서 test_labels이 0 부터 9까지의 숫자 중 하나가 나오는 것을 볼 수 있었는데, one_hot_encoding을 하용하여 0과 1이 array로 출력되는 것을 확인 할 수 있습니다. 그리고 datatype도 unit8에서 float32로 바꾼것을 볼 수 있습니다."
      ]
    },
    {
      "cell_type": "markdown",
      "metadata": {
        "id": "VUdQt2B8ouqn"
      },
      "source": [
        "## **4. Fashion_Mnist의 Model Compile과 Plot을 그려주었습니다.**"
      ]
    },
    {
      "cell_type": "code",
      "metadata": {
        "colab": {
          "base_uri": "https://localhost:8080/"
        },
        "id": "m1zKLtxgzZV3",
        "outputId": "573da5d4-bab4-46d9-efa7-b6c777da707d"
      },
      "source": [
        "model.compile(optimizer='rmsprop',            #optimizer는 rmsprop를 사용하였습니다.\n",
        "              loss='categorical_crossentropy',  #그리고 loss를 categorical_crossentropy를 해주었습니다.\n",
        "              metrics=['accuracy'])            #metrics에 accuracy를 사용하였습니다.\n",
        "history = model.fit(train_images, train_labels, validation_data=(test_images, test_labels), epochs=30, batch_size=64, verbose=1)\n",
        "#train_images와 trin_lables을 사용했으며, validation_data에는 test_images와 test_lables을 사용하였습니다. 그리고 epochs은 30으로 하였고, batch_size는 64로 하였고 verbose는 1로 하였습니다.\n",
        "#그리고 history에 저장을 해두었습니다."
      ],
      "execution_count": null,
      "outputs": [
        {
          "output_type": "stream",
          "text": [
            "Epoch 1/30\n",
            "938/938 [==============================] - 20s 5ms/step - loss: 0.5685 - accuracy: 0.7916 - val_loss: 0.4050 - val_accuracy: 0.8548\n",
            "Epoch 2/30\n",
            "938/938 [==============================] - 4s 5ms/step - loss: 0.3463 - accuracy: 0.8739 - val_loss: 0.3776 - val_accuracy: 0.8658\n",
            "Epoch 3/30\n",
            "938/938 [==============================] - 4s 5ms/step - loss: 0.2937 - accuracy: 0.8924 - val_loss: 0.3034 - val_accuracy: 0.8903\n",
            "Epoch 4/30\n",
            "938/938 [==============================] - 4s 5ms/step - loss: 0.2660 - accuracy: 0.9020 - val_loss: 0.2935 - val_accuracy: 0.8930\n",
            "Epoch 5/30\n",
            "938/938 [==============================] - 4s 5ms/step - loss: 0.2399 - accuracy: 0.9113 - val_loss: 0.3151 - val_accuracy: 0.8838\n",
            "Epoch 6/30\n",
            "938/938 [==============================] - 4s 5ms/step - loss: 0.2192 - accuracy: 0.9190 - val_loss: 0.2714 - val_accuracy: 0.9014\n",
            "Epoch 7/30\n",
            "938/938 [==============================] - 4s 5ms/step - loss: 0.2047 - accuracy: 0.9249 - val_loss: 0.2802 - val_accuracy: 0.9023\n",
            "Epoch 8/30\n",
            "938/938 [==============================] - 4s 5ms/step - loss: 0.1890 - accuracy: 0.9299 - val_loss: 0.2631 - val_accuracy: 0.9082\n",
            "Epoch 9/30\n",
            "938/938 [==============================] - 4s 5ms/step - loss: 0.1747 - accuracy: 0.9354 - val_loss: 0.2692 - val_accuracy: 0.9103\n",
            "Epoch 10/30\n",
            "938/938 [==============================] - 4s 5ms/step - loss: 0.1634 - accuracy: 0.9400 - val_loss: 0.2747 - val_accuracy: 0.9054\n",
            "Epoch 11/30\n",
            "938/938 [==============================] - 4s 5ms/step - loss: 0.1514 - accuracy: 0.9442 - val_loss: 0.2734 - val_accuracy: 0.9084\n",
            "Epoch 12/30\n",
            "938/938 [==============================] - 4s 5ms/step - loss: 0.1430 - accuracy: 0.9474 - val_loss: 0.2827 - val_accuracy: 0.9109\n",
            "Epoch 13/30\n",
            "938/938 [==============================] - 4s 5ms/step - loss: 0.1328 - accuracy: 0.9507 - val_loss: 0.2868 - val_accuracy: 0.9117\n",
            "Epoch 14/30\n",
            "938/938 [==============================] - 4s 5ms/step - loss: 0.1238 - accuracy: 0.9537 - val_loss: 0.3249 - val_accuracy: 0.9111\n",
            "Epoch 15/30\n",
            "938/938 [==============================] - 4s 5ms/step - loss: 0.1175 - accuracy: 0.9559 - val_loss: 0.3384 - val_accuracy: 0.9025\n",
            "Epoch 16/30\n",
            "938/938 [==============================] - 4s 5ms/step - loss: 0.1094 - accuracy: 0.9592 - val_loss: 0.3138 - val_accuracy: 0.9119\n",
            "Epoch 17/30\n",
            "938/938 [==============================] - 4s 5ms/step - loss: 0.1036 - accuracy: 0.9608 - val_loss: 0.3363 - val_accuracy: 0.9078\n",
            "Epoch 18/30\n",
            "938/938 [==============================] - 4s 5ms/step - loss: 0.0982 - accuracy: 0.9625 - val_loss: 0.3528 - val_accuracy: 0.9016\n",
            "Epoch 19/30\n",
            "938/938 [==============================] - 4s 5ms/step - loss: 0.0912 - accuracy: 0.9665 - val_loss: 0.3933 - val_accuracy: 0.8961\n",
            "Epoch 20/30\n",
            "938/938 [==============================] - 4s 5ms/step - loss: 0.0871 - accuracy: 0.9677 - val_loss: 0.3769 - val_accuracy: 0.9047\n",
            "Epoch 21/30\n",
            "938/938 [==============================] - 4s 5ms/step - loss: 0.0832 - accuracy: 0.9689 - val_loss: 0.4083 - val_accuracy: 0.9049\n",
            "Epoch 22/30\n",
            "938/938 [==============================] - 4s 5ms/step - loss: 0.0805 - accuracy: 0.9701 - val_loss: 0.4851 - val_accuracy: 0.9091\n",
            "Epoch 23/30\n",
            "938/938 [==============================] - 4s 5ms/step - loss: 0.0762 - accuracy: 0.9714 - val_loss: 0.4432 - val_accuracy: 0.8926\n",
            "Epoch 24/30\n",
            "938/938 [==============================] - 4s 5ms/step - loss: 0.0725 - accuracy: 0.9731 - val_loss: 0.4724 - val_accuracy: 0.9020\n",
            "Epoch 25/30\n",
            "938/938 [==============================] - 4s 5ms/step - loss: 0.0704 - accuracy: 0.9740 - val_loss: 0.4790 - val_accuracy: 0.9088\n",
            "Epoch 26/30\n",
            "938/938 [==============================] - 4s 5ms/step - loss: 0.0676 - accuracy: 0.9746 - val_loss: 0.5211 - val_accuracy: 0.9072\n",
            "Epoch 27/30\n",
            "938/938 [==============================] - 4s 5ms/step - loss: 0.0653 - accuracy: 0.9763 - val_loss: 0.5150 - val_accuracy: 0.9050\n",
            "Epoch 28/30\n",
            "938/938 [==============================] - 4s 5ms/step - loss: 0.0620 - accuracy: 0.9771 - val_loss: 0.4779 - val_accuracy: 0.9013\n",
            "Epoch 29/30\n",
            "938/938 [==============================] - 4s 5ms/step - loss: 0.0603 - accuracy: 0.9778 - val_loss: 0.6500 - val_accuracy: 0.9031\n",
            "Epoch 30/30\n",
            "938/938 [==============================] - 4s 5ms/step - loss: 0.0581 - accuracy: 0.9787 - val_loss: 0.5993 - val_accuracy: 0.9073\n"
          ],
          "name": "stdout"
        }
      ]
    },
    {
      "cell_type": "markdown",
      "metadata": {
        "id": "mGdVCj2Ao5Jy"
      },
      "source": [
        "- 위의 Model Compile을 실행 시켜 보았을 때, Epoch가 30이 되었을 때, loss는 0.0581가 되는 것을 확인 할 수 있고, accuracy는 0.9787가 되는 것을 확인 할 수 있습니다. 그리고 val_loss는 0.5993의 값을 가진다는 것을 확인 할 수 있으며, val_accuracy은 0.9073의 값을 가진다는 것을 확인 할 수 있습니다.\n"
      ]
    },
    {
      "cell_type": "code",
      "metadata": {
        "colab": {
          "base_uri": "https://localhost:8080/"
        },
        "id": "0zpS99kWe0Ur",
        "outputId": "2b06554a-1b2c-4b8c-f098-fbe664255c2e"
      },
      "source": [
        "test_loss, test_acc = model.evaluate(test_images, test_labels)"
      ],
      "execution_count": null,
      "outputs": [
        {
          "output_type": "stream",
          "text": [
            "313/313 [==============================] - 1s 3ms/step - loss: 0.5993 - accuracy: 0.9073\n"
          ],
          "name": "stdout"
        }
      ]
    },
    {
      "cell_type": "markdown",
      "metadata": {
        "id": "CrHJpZTGpVhN"
      },
      "source": [
        "- test_loss와 test_accuracy도 실행해 줍니다. \n",
        "  - test의 loss가 0.5993이고, accuracy가 0.9073이 나오는 것을 확인 할 수 있습니다.\n"
      ]
    },
    {
      "cell_type": "code",
      "metadata": {
        "colab": {
          "base_uri": "https://localhost:8080/"
        },
        "id": "U1O9jBS3e0Ur",
        "outputId": "aa7547ed-2821-4eb5-aac5-7ffcde0bfef8"
      },
      "source": [
        "print('test_accuracy:', test_acc)"
      ],
      "execution_count": null,
      "outputs": [
        {
          "output_type": "stream",
          "text": [
            "test_accuracy: 0.9072999954223633\n"
          ],
          "name": "stdout"
        }
      ]
    },
    {
      "cell_type": "markdown",
      "metadata": {
        "id": "44bjLcoAe0Ur"
      },
      "source": [
        "- test accuracy가 90%가 나온다는 것을 알 수 있습니다."
      ]
    },
    {
      "cell_type": "code",
      "metadata": {
        "colab": {
          "base_uri": "https://localhost:8080/",
          "height": 295
        },
        "id": "HfbkSNs-4L45",
        "outputId": "0230b9d7-ed2c-4cda-f041-003959c95aea"
      },
      "source": [
        "#Plot을 사용해서 현재 Training과 Validation Loss가 어떻게 되는지 그려주었습니다.\n",
        "import matplotlib.pyplot as plt\n",
        "\n",
        "acc = history.history['accuracy']\n",
        "val_acc = history.history['val_accuracy']\n",
        "loss = (history.history['loss'])\n",
        "val_loss = (history.history['val_loss'])\n",
        "\n",
        "epochs = range(1, len(acc) + 1)\n",
        "plt.plot(epochs, loss, 'bo', label='Training Loss')\n",
        "plt.plot(epochs, val_loss, 'b', label='Validation Loss')\n",
        "plt.title('Training and Validation Loss')\n",
        "plt.ylabel('loss')\n",
        "plt.xlabel('epoch')\n",
        "plt.legend()\n",
        "\n",
        "plt.show()"
      ],
      "execution_count": null,
      "outputs": [
        {
          "output_type": "display_data",
          "data": {
            "image/png": "[encoded data removed]",
            "text/plain": [
              "<Figure size 432x288 with 1 Axes>"
            ]
          },
          "metadata": {
            "tags": [],
            "needs_background": "light"
          }
        }
      ]
    },
    {
      "cell_type": "markdown",
      "metadata": {
        "id": "1zr6wNdV9UCH"
      },
      "source": [
        "- Training and Validation loss를 하였을 때, Training loss는 0.0581로 낮은 값을 가진다는 것을 볼 수 있지만 Validation loss는 0.5993로 높은 값을 가진다는 것을 알 수 있습니다. 즉, Training loss는 잘 되었지만 Validation loss는 높은 값을 가지기 때문에 과적합 되었다는 것을 알 수 있습니다."
      ]
    },
    {
      "cell_type": "code",
      "metadata": {
        "colab": {
          "base_uri": "https://localhost:8080/",
          "height": 295
        },
        "id": "g2PjD-Vp4PYx",
        "outputId": "9e4aac3c-b7e8-48ff-f81c-4fe2e261e21b"
      },
      "source": [
        "#Plot을 사용해서 현재 Training과 Validation Accuracy가 어떻게 되는지 그려주었습니다.\n",
        "plt.clf()   # clear figure\n",
        "\n",
        "plt.plot(epochs, acc, 'bo', label='Training accuracy')\n",
        "plt.plot(epochs, val_acc, 'b', label='Validation accuracy')\n",
        "plt.title('Training and Validation Accuracy')\n",
        "plt.xlabel('Epochs')\n",
        "plt.ylabel('Loss')\n",
        "plt.legend()\n",
        "\n",
        "plt.show()"
      ],
      "execution_count": null,
      "outputs": [
        {
          "output_type": "display_data",
          "data": {
            "image/png": "[encoded data removed]",
            "text/plain": [
              "<Figure size 432x288 with 1 Axes>"
            ]
          },
          "metadata": {
            "tags": [],
            "needs_background": "light"
          }
        }
      ]
    },
    {
      "cell_type": "markdown",
      "metadata": {
        "id": "oqr1op1f-Jj2"
      },
      "source": [
        "- Training and Validation Accuracy를 하였을 때, Training Accuracy의 값은0.9787로 높은 값을 보이는 반면에, Validation Accuracy의 값은 0.9073로 Training Accuracy의 값보다 낮은 값을 가진다는 것을 볼 수 있습니다. 즉, Training accuracy보다 Validation Accuracy가 낮은 값을 가지기 때문에 과적합이 되었다는 것을 알 수 있습니다. 따라서 이러한 과적합을 방지 하기 위해 다음 과정부터는 model을 바꾸어서 과적합이 되는 것을 방지 하고자 합니다."
      ]
    },
    {
      "cell_type": "markdown",
      "metadata": {
        "id": "huCfiDJF52mW"
      },
      "source": [
        "## **5. Fashion_Mnist의 기존 모델을 Model1으로 성능을 향상시켜주고 Plot을 그려주었습니다.**"
      ]
    },
    {
      "cell_type": "markdown",
      "metadata": {
        "id": "jEX7OB7eCcc8"
      },
      "source": [
        "- 위에서 Model을 만들어서 Model을 Compile해본 결과 Training Loss는 0.0581로 낮은 값이 나오지만, Validation Loss는 0.5993로 높은 값이 나오며, Training Accuracy는 0.9787로 높은 값을 가지지만 Validation Accuracy는 0.9073로 Training Accuracy의 값보다 낮은 값을 가지기 때문에 과적합이 일어나는 것을 볼 수 있었습니다. 그래서 **5. Fashion_Mnist의 기존 모델을 Model1으로 성능을 향상시켜주고 Plot을 그려주었습니다.** 에서는 Model을 수정하고 Model을 Compile하여 과적합 되는 것을 방지하고자 합니다."
      ]
    },
    {
      "cell_type": "code",
      "metadata": {
        "id": "kqH60iBf52OP"
      },
      "source": [
        "from tensorflow.keras import models        #tensorflow에서 models을 가지고 옵니다.\n",
        "from tensorflow.keras import layers        #tensorflow에서 layers를 가지고 옵니다.\n",
        "\n",
        "model1 = models.Sequential()    #models에서 Sequential을 가지고와서 층을 만들어 주었습니다.\n",
        "\n",
        "model1.add(layers.Conv2D(filters = 32, kernel_size = (5,5),padding = 'Same', #Conv2D를 사용하여 filters는 32로 해주고, kernel_size는 행을 5로 열을 5로 해줍니다.\n",
        "                 activation ='relu', input_shape = (28,28,1)))\n",
        "model1.add(layers.Conv2D(filters = 32, kernel_size = (5,5),padding = 'Same', #Conv2D를 사용하여 filters는 32로 해주고, kernel_size는 행을 5로 열을 5로 해줍니다.\n",
        "                 activation ='relu'))\n",
        "model1.add(layers.MaxPooling2D(pool_size=(2,2)))\n",
        "model1.add(layers.Dropout(0.25))\n",
        "\n",
        "\n",
        "model1.add(layers.Conv2D(filters = 64, kernel_size = (3,3),padding = 'Same',  #Conv2D를 사용하여 filters는 64로 해주고, kernel_size는 행을 3로 열을 3로 해줍니다.\n",
        "                 activation ='relu'))\n",
        "model1.add(layers.Conv2D(filters = 64, kernel_size = (3,3),padding = 'Same',  #Conv2D를 사용하여 filters는 64로 해주고, kernel_size는 행을 3로 열을 3로 해줍니다.\n",
        "                 activation ='relu'))\n",
        "\n",
        "model1.add(layers.Conv2D(filters = 128, kernel_size = (1,1),padding = 'Same',  #Conv2D를 사용하여 filters는 128로 해주고, kernel_size는 행을 3로 열을 3로 해줍니다.\n",
        "                 activation ='relu'))\n",
        "model1.add(layers.Conv2D(filters = 128, kernel_size = (1,1),padding = 'Same',  #Conv2D를 사용하여 filters는 128로 해주고, kernel_size는 행을 3로 열을 3로 해줍니다.\n",
        "                 activation ='relu'))\n",
        "\n",
        "model1.add(layers.MaxPooling2D(pool_size=(2,2), strides=(2,2))) #MaxPooling2D를 사용하여 pool_size를 (2,2)로 하였으며, strides를 (2,2)로 하였습니다.\n",
        "model1.add(layers.Dropout(0.25)) #Dropout과 같은 경우는 0.25로 하였습니다.\n",
        "\n",
        "\n",
        "model1.add(layers.Flatten())  #Flatten을 시켜줬습니다.\n",
        "model1.add(layers.Dense(64, activation = \"relu\"))   #Dense layer를 64로 해주고, activation을 relu로 하였습니다.\n",
        "model1.add(layers.Dropout(0.5))    #Dropout을 0.5로 하였습니다.\n",
        "model1.add(layers.Dense(10, activation = \"softmax\")) #Dense layer를 10로 해주고, activation을 softmax로 하였습니다."
      ],
      "execution_count": null,
      "outputs": []
    },
    {
      "cell_type": "markdown",
      "metadata": {
        "id": "2E4apSYyEZ_z"
      },
      "source": [
        "- **첫번째 인자**에서 filters를 사용합니다.\n",
        "\n",
        "- **두번째 인자**에서는 knernel_size를 사용합니다.\n",
        "\n",
        "- **padding** : 경계를 처리해 주는 방법입니다.\n",
        "  - ‘Same’ : 출력 이미지 사이즈가 입력 이미지 사이즈와 동일하게 해줍니다.\n",
        "\n",
        "- **activation** : 활성화 함수를 설정해줍니다.\n",
        "  - ‘linear’ : 디폴트 값이고, 입력뉴런과 가중치로 계산된 결과값이 그대로 출력 됩니다.\n",
        "  - ‘relu’ : rectifier 함수이고, 은닉층에 주로 사용됩니다.\n",
        "  - ‘sigmoid’ : sigmoid 함수이고, 이진 분류 문제에서 출력층에 주로 사용됩니다.\n",
        "  - ‘softmax’ : softmax 함수이고, 다중 클래스 분류 문제에서 출력층에 주로 사용됩니다.\n",
        "\n",
        "- **Max-pooling** : 특정 영역에서 가장 큰 값을 샘플링하는 풀링 방식입니다.\n",
        "  - pool_size : pool_size는 2×2 영역으로 하였습니다.\n",
        "  - strides : 풀링필터를 이동시키는 간격이며, 여기에서는 (2,2)를 사용하였습니다.\n",
        "\n",
        "- **Flatten** : Flatten 함수는  numpy의 함수로써, 여러 행렬의 함수를 하나의 행 또는 열로 변환을 해주는 함수입니다.\n",
        "\n",
        "- **Dense** : Dense 함수는 입력과 출력을 모두 연결해줍니다. 이 예제에서는 activation을 relu와 softmax를 사용하였습니다.\n",
        "\n",
        "- **Dropout** : Dropout 함수는 학습을 시킬 때 무작위로 뉴런을 '드롭아웃(=제외)'시키는 방법입니다. "
      ]
    },
    {
      "cell_type": "code",
      "metadata": {
        "colab": {
          "base_uri": "https://localhost:8080/"
        },
        "id": "jB_kdS4W6kRE",
        "outputId": "f7175201-026d-4e20-fb4f-e86d218989ad"
      },
      "source": [
        "model1.summary()"
      ],
      "execution_count": null,
      "outputs": [
        {
          "output_type": "stream",
          "text": [
            "Model: \"sequential_1\"\n",
            "_________________________________________________________________\n",
            "Layer (type)                 Output Shape              Param #   \n",
            "=================================================================\n",
            "conv2d_3 (Conv2D)            (None, 28, 28, 32)        832       \n",
            "_________________________________________________________________\n",
            "conv2d_4 (Conv2D)            (None, 28, 28, 32)        25632     \n",
            "_________________________________________________________________\n",
            "max_pooling2d_2 (MaxPooling2 (None, 14, 14, 32)        0         \n",
            "_________________________________________________________________\n",
            "dropout (Dropout)            (None, 14, 14, 32)        0         \n",
            "_________________________________________________________________\n",
            "conv2d_5 (Conv2D)            (None, 14, 14, 64)        18496     \n",
            "_________________________________________________________________\n",
            "conv2d_6 (Conv2D)            (None, 14, 14, 64)        36928     \n",
            "_________________________________________________________________\n",
            "conv2d_7 (Conv2D)            (None, 14, 14, 128)       8320      \n",
            "_________________________________________________________________\n",
            "conv2d_8 (Conv2D)            (None, 14, 14, 128)       16512     \n",
            "_________________________________________________________________\n",
            "max_pooling2d_3 (MaxPooling2 (None, 7, 7, 128)         0         \n",
            "_________________________________________________________________\n",
            "dropout_1 (Dropout)          (None, 7, 7, 128)         0         \n",
            "_________________________________________________________________\n",
            "flatten_1 (Flatten)          (None, 6272)              0         \n",
            "_________________________________________________________________\n",
            "dense_2 (Dense)              (None, 64)                401472    \n",
            "_________________________________________________________________\n",
            "dropout_2 (Dropout)          (None, 64)                0         \n",
            "_________________________________________________________________\n",
            "dense_3 (Dense)              (None, 10)                650       \n",
            "=================================================================\n",
            "Total params: 508,842\n",
            "Trainable params: 508,842\n",
            "Non-trainable params: 0\n",
            "_________________________________________________________________\n"
          ],
          "name": "stdout"
        }
      ]
    },
    {
      "cell_type": "markdown",
      "metadata": {
        "id": "bIiUsgyx34ur"
      },
      "source": [
        "- **model1.summary()**를 통해 sequential_1 Model을 확인해 보았습니다.\n",
        "그리고 **Total params**는 508,842로 되어 있습니다."
      ]
    },
    {
      "cell_type": "code",
      "metadata": {
        "colab": {
          "base_uri": "https://localhost:8080/"
        },
        "id": "llTtgdAq6tZS",
        "outputId": "5e23e528-fb2d-43bb-f94c-19832a731585"
      },
      "source": [
        "model1.compile(optimizer='Adam',            #optimizer는 Adam를 사용하였습니다.\n",
        "              loss='categorical_crossentropy',  #그리고 loss을 categorical_crossentropy를 하였습니다.\n",
        "              metrics=['accuracy'])            #mertics를 accuracy로 하였습니다.\n",
        "history = model1.fit(train_images, train_labels, validation_data=(test_images, test_labels), epochs=30, batch_size=64, verbose=1)\n",
        "#여기에서는 이전에 실행했던 model에서 돌렸던 듯이 똑같이 epochs는 30으로 하였고 batch_size는 64로 하였으며, verbose는 1로 하였습니다."
      ],
      "execution_count": null,
      "outputs": [
        {
          "output_type": "stream",
          "text": [
            "Epoch 1/30\n",
            "938/938 [==============================] - 8s 7ms/step - loss: 0.6829 - accuracy: 0.7509 - val_loss: 0.3790 - val_accuracy: 0.8551\n",
            "Epoch 2/30\n",
            "938/938 [==============================] - 6s 7ms/step - loss: 0.4469 - accuracy: 0.8393 - val_loss: 0.3287 - val_accuracy: 0.8790\n",
            "Epoch 3/30\n",
            "938/938 [==============================] - 6s 7ms/step - loss: 0.3925 - accuracy: 0.8575 - val_loss: 0.3110 - val_accuracy: 0.8873\n",
            "Epoch 4/30\n",
            "938/938 [==============================] - 6s 7ms/step - loss: 0.3595 - accuracy: 0.8698 - val_loss: 0.2832 - val_accuracy: 0.8959\n",
            "Epoch 5/30\n",
            "938/938 [==============================] - 6s 7ms/step - loss: 0.3356 - accuracy: 0.8777 - val_loss: 0.2833 - val_accuracy: 0.8982\n",
            "Epoch 6/30\n",
            "938/938 [==============================] - 6s 7ms/step - loss: 0.3148 - accuracy: 0.8869 - val_loss: 0.2647 - val_accuracy: 0.9049\n",
            "Epoch 7/30\n",
            "938/938 [==============================] - 6s 7ms/step - loss: 0.3006 - accuracy: 0.8906 - val_loss: 0.2415 - val_accuracy: 0.9108\n",
            "Epoch 8/30\n",
            "938/938 [==============================] - 6s 7ms/step - loss: 0.2853 - accuracy: 0.8960 - val_loss: 0.2575 - val_accuracy: 0.9084\n",
            "Epoch 9/30\n",
            "938/938 [==============================] - 6s 7ms/step - loss: 0.2776 - accuracy: 0.8996 - val_loss: 0.2444 - val_accuracy: 0.9146\n",
            "Epoch 10/30\n",
            "938/938 [==============================] - 6s 7ms/step - loss: 0.2636 - accuracy: 0.9041 - val_loss: 0.2451 - val_accuracy: 0.9142\n",
            "Epoch 11/30\n",
            "938/938 [==============================] - 6s 7ms/step - loss: 0.2584 - accuracy: 0.9059 - val_loss: 0.2373 - val_accuracy: 0.9151\n",
            "Epoch 12/30\n",
            "938/938 [==============================] - 6s 7ms/step - loss: 0.2497 - accuracy: 0.9092 - val_loss: 0.2374 - val_accuracy: 0.9131\n",
            "Epoch 13/30\n",
            "938/938 [==============================] - 6s 7ms/step - loss: 0.2397 - accuracy: 0.9150 - val_loss: 0.2249 - val_accuracy: 0.9175\n",
            "Epoch 14/30\n",
            "938/938 [==============================] - 6s 7ms/step - loss: 0.2365 - accuracy: 0.9137 - val_loss: 0.2280 - val_accuracy: 0.9186\n",
            "Epoch 15/30\n",
            "938/938 [==============================] - 6s 7ms/step - loss: 0.2313 - accuracy: 0.9170 - val_loss: 0.2319 - val_accuracy: 0.9190\n",
            "Epoch 16/30\n",
            "938/938 [==============================] - 6s 7ms/step - loss: 0.2273 - accuracy: 0.9183 - val_loss: 0.2293 - val_accuracy: 0.9206\n",
            "Epoch 17/30\n",
            "938/938 [==============================] - 6s 7ms/step - loss: 0.2241 - accuracy: 0.9173 - val_loss: 0.2256 - val_accuracy: 0.9214\n",
            "Epoch 18/30\n",
            "938/938 [==============================] - 6s 7ms/step - loss: 0.2155 - accuracy: 0.9210 - val_loss: 0.2289 - val_accuracy: 0.9197\n",
            "Epoch 19/30\n",
            "938/938 [==============================] - 6s 7ms/step - loss: 0.2159 - accuracy: 0.9218 - val_loss: 0.2305 - val_accuracy: 0.9185\n",
            "Epoch 20/30\n",
            "938/938 [==============================] - 6s 7ms/step - loss: 0.2106 - accuracy: 0.9216 - val_loss: 0.2312 - val_accuracy: 0.9197\n",
            "Epoch 21/30\n",
            "938/938 [==============================] - 6s 7ms/step - loss: 0.2093 - accuracy: 0.9238 - val_loss: 0.2323 - val_accuracy: 0.9221\n",
            "Epoch 22/30\n",
            "938/938 [==============================] - 6s 7ms/step - loss: 0.2030 - accuracy: 0.9253 - val_loss: 0.2286 - val_accuracy: 0.9235\n",
            "Epoch 23/30\n",
            "938/938 [==============================] - 6s 7ms/step - loss: 0.2032 - accuracy: 0.9248 - val_loss: 0.2267 - val_accuracy: 0.9256\n",
            "Epoch 24/30\n",
            "938/938 [==============================] - 6s 7ms/step - loss: 0.1974 - accuracy: 0.9261 - val_loss: 0.2369 - val_accuracy: 0.9199\n",
            "Epoch 25/30\n",
            "938/938 [==============================] - 6s 7ms/step - loss: 0.1951 - accuracy: 0.9276 - val_loss: 0.2275 - val_accuracy: 0.9235\n",
            "Epoch 26/30\n",
            "938/938 [==============================] - 6s 7ms/step - loss: 0.1933 - accuracy: 0.9280 - val_loss: 0.2302 - val_accuracy: 0.9255\n",
            "Epoch 27/30\n",
            "938/938 [==============================] - 6s 7ms/step - loss: 0.1926 - accuracy: 0.9282 - val_loss: 0.2229 - val_accuracy: 0.9262\n",
            "Epoch 28/30\n",
            "938/938 [==============================] - 6s 7ms/step - loss: 0.1901 - accuracy: 0.9285 - val_loss: 0.2259 - val_accuracy: 0.9225\n",
            "Epoch 29/30\n",
            "938/938 [==============================] - 6s 7ms/step - loss: 0.1866 - accuracy: 0.9301 - val_loss: 0.2325 - val_accuracy: 0.9276\n",
            "Epoch 30/30\n",
            "938/938 [==============================] - 6s 7ms/step - loss: 0.1834 - accuracy: 0.9323 - val_loss: 0.2409 - val_accuracy: 0.9258\n"
          ],
          "name": "stdout"
        }
      ]
    },
    {
      "cell_type": "markdown",
      "metadata": {
        "id": "GBNu_Nzw5UWg"
      },
      "source": [
        "- 위의 Model Compile을 실행 시켜 보았을 때, Epoch가 30이 되었을 때, loss는 0.1834가 되는 것을 확인 할 수 있고, accuracy는 0.9323가 되는 것을 확인 할 수 있습니다. 그리고 val_loss는 0.2409의 값을 가진다는 것을 확인 할 수 있으며, val_accuracy은 0.9258의 값을 가진다는 것을 확인 할 수 있습니다."
      ]
    },
    {
      "cell_type": "code",
      "metadata": {
        "colab": {
          "base_uri": "https://localhost:8080/"
        },
        "id": "QhcNeVUh6wnZ",
        "outputId": "0877e516-20bc-4d3e-868d-0a3613719be6"
      },
      "source": [
        "test_loss, test_acc = model1.evaluate(test_images, test_labels)"
      ],
      "execution_count": null,
      "outputs": [
        {
          "output_type": "stream",
          "text": [
            "313/313 [==============================] - 1s 3ms/step - loss: 0.2409 - accuracy: 0.9258\n"
          ],
          "name": "stdout"
        }
      ]
    },
    {
      "cell_type": "markdown",
      "metadata": {
        "id": "i_V_heKoNguz"
      },
      "source": [
        "- **test_loss**가 0.2409, **test_accuracy**가 0.9258의 값이 나온것을 확인할 수 있습니다."
      ]
    },
    {
      "cell_type": "code",
      "metadata": {
        "colab": {
          "base_uri": "https://localhost:8080/"
        },
        "id": "gicgx5rw61C7",
        "outputId": "12b873d0-7fc2-4bdd-add6-1f84c4f52ac1"
      },
      "source": [
        "print('test_acc:', test_acc)"
      ],
      "execution_count": null,
      "outputs": [
        {
          "output_type": "stream",
          "text": [
            "test_acc: 0.9258000254631042\n"
          ],
          "name": "stdout"
        }
      ]
    },
    {
      "cell_type": "markdown",
      "metadata": {
        "id": "w3Xc86cjNWqW"
      },
      "source": [
        "- **test_accuracy**의 값이 0.9258가 나온 것을 확인할 수 있습니다."
      ]
    },
    {
      "cell_type": "code",
      "metadata": {
        "colab": {
          "base_uri": "https://localhost:8080/",
          "height": 295
        },
        "id": "MXkm23Wd64a_",
        "outputId": "e54128c1-521a-4e77-bf0f-413b451b84a5"
      },
      "source": [
        "#Plot을 사용해서 현재 Training과 Validation Loss가 어떻게 되는지 그려주었습니다.\n",
        "import matplotlib.pyplot as plt\n",
        "\n",
        "acc = history.history['accuracy']\n",
        "val_acc = history.history['val_accuracy']\n",
        "loss = (history.history['loss'])\n",
        "val_loss = (history.history['val_loss'])\n",
        "\n",
        "epochs = range(1, len(acc) + 1)\n",
        "plt.plot(epochs, loss, 'bo', label='Training Loss')\n",
        "plt.plot(epochs, val_loss, 'b', label='Validation Loss')\n",
        "plt.title('Training and Validation Loss')\n",
        "plt.ylabel('loss')\n",
        "plt.xlabel('epoch')\n",
        "plt.legend()\n",
        "\n",
        "plt.show()"
      ],
      "execution_count": null,
      "outputs": [
        {
          "output_type": "display_data",
          "data": {
            "image/png": "[encoded data removed]",
            "text/plain": [
              "<Figure size 432x288 with 1 Axes>"
            ]
          },
          "metadata": {
            "tags": [],
            "needs_background": "light"
          }
        }
      ]
    },
    {
      "cell_type": "markdown",
      "metadata": {
        "id": "kqpOnnJUOKZG"
      },
      "source": [
        "- Training and Validation Loss를 보았을 때, Training Loss는 0.1834의 값을 가지며 Validation Loss는 0.2409의 값을 가지는 것을 볼 수 있습니다."
      ]
    },
    {
      "cell_type": "code",
      "metadata": {
        "colab": {
          "base_uri": "https://localhost:8080/",
          "height": 295
        },
        "id": "g_xbqJ3Z662T",
        "outputId": "f5b49bab-3bd9-4404-cdf7-b0191ecb1032"
      },
      "source": [
        "#Plot을 사용해서 현재 Training과 Validation Accuracy가 어떻게 되는지 그려주었습니다.\n",
        "plt.clf()   # clear figure\n",
        "\n",
        "plt.plot(epochs, acc, 'bo', label='Training Accuracy')\n",
        "plt.plot(epochs, val_acc, 'b', label='Validation Accuracy')\n",
        "plt.title('Training and Validation Accuracy')\n",
        "plt.xlabel('Epochs')\n",
        "plt.ylabel('Loss')\n",
        "plt.legend()\n",
        "\n",
        "plt.show()"
      ],
      "execution_count": null,
      "outputs": [
        {
          "output_type": "display_data",
          "data": {
            "image/png": "[encoded data removed]",
            "text/plain": [
              "<Figure size 432x288 with 1 Axes>"
            ]
          },
          "metadata": {
            "tags": [],
            "needs_background": "light"
          }
        }
      ]
    },
    {
      "cell_type": "markdown",
      "metadata": {
        "id": "n4V6fZ1yObIb"
      },
      "source": [
        "- Training and Validation Accuracy를 보았을 때, Training Accuracy는 0.9323의 값을 가지며, Validation Accuracy는 0.9258의 값을 가진다는 것을 볼 수 있습니다. "
      ]
    },
    {
      "cell_type": "markdown",
      "metadata": {
        "id": "-y2bUZHt7kzO"
      },
      "source": [
        "## **6. Fashion_Mnist의 결 론.**"
      ]
    },
    {
      "cell_type": "markdown",
      "metadata": {
        "id": "WEEpm9NY7nsV"
      },
      "source": [
        "### -  Model을 Compile해본 결과 Training Loss는 0.0581로 낮은 값이 나오지만, Validation Loss는 0.5993로 높은 값이 나오며, Training Accuracy는 0.9787로 높은 값을 가지지만 Validation Accuracy는 0.9073로 Training Accuracy의 값보다 낮은 값을 가지기 때문에 과적합이 일어나는 것을 볼 수 있었습니다.\n",
        "\n",
        "### -  따라서 Model을 수정한 Model1을 Compile해본 결과 Training Loss는 0.1834의 값이 나오고, Validation Loss는 0.2409의 값이 나오는 것을 알 수 있으며, Training Accuracy는 0.9323값을 가지며 Validation Accuracy는 0.9258의 값을 가진다는 것을 알 수 있습니다. \n",
        "\n",
        "### -  결과적으로 Model을 가지고 Compile을 하였을 때보다 Training Accuracy는 조금 낮은 값이 나오게 되지만 Training Loss, Validation Loss의 값은 둘 다 낮은 값을 가지며, Validation Accuracy는 좀 더 높은 값을 가지기 때문에 성능이 더 좋아진것을 확인 할 수 있으며, 과적합이 되던것이 없어진 것을 확인할 수 있었습니다."
      ]
    }
  ]
}